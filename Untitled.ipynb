{
 "cells": [
  {
   "cell_type": "code",
   "execution_count": 13,
   "metadata": {},
   "outputs": [
    {
     "name": "stdout",
     "output_type": "stream",
     "text": [
      "This is NOT Selena Gomez\n"
     ]
    }
   ],
   "source": [
    "import face_recognition as fr\n",
    "\n",
    "image_of_bill = fr.load_image_file('./img/known/Selena Gomez.jpg')\n",
    "bill_face_encoding = fr.face_encodings(image_of_bill)[0]\n",
    "\n",
    "unknown_image = fr.load_image_file(\n",
    "    './img/unknown/swift4.jpg')\n",
    "unknown_face_encoding = fr.face_encodings(unknown_image)[0]\n",
    "\n",
    "# Compare faces\n",
    "results = fr.compare_faces(\n",
    "    [bill_face_encoding], unknown_face_encoding)\n",
    "\n",
    "if results[0]:\n",
    "    print('This is Selena Gomez')\n",
    "else:\n",
    "    print('This is NOT Selena Gomez')\n"
   ]
  },
  {
   "cell_type": "code",
   "execution_count": 14,
   "metadata": {},
   "outputs": [
    {
     "name": "stdout",
     "output_type": "stream",
     "text": [
      "There are 1 people in this image\n"
     ]
    }
   ],
   "source": [
    "import face_recognition as fr\n",
    "\n",
    "image = fr.load_image_file('./img/groups/team2.jpg')\n",
    "face_locations = fr.face_locations(image)\n",
    "\n",
    "# Array of coords of each face\n",
    "# print(face_locations)\n",
    "\n",
    "print(f'There are {len(face_locations)} people in this image')\n"
   ]
  },
  {
   "cell_type": "code",
   "execution_count": 15,
   "metadata": {},
   "outputs": [],
   "source": [
    "import face_recognition as fr\n",
    "from PIL import Image, ImageDraw\n",
    "\n",
    "image_of_bill = fr.load_image_file('./img/known/Selena Gomez.jpg')\n",
    "bill_face_encoding = fr.face_encodings(image_of_bill)[0]\n",
    "\n",
    "image_of_steve = fr.load_image_file('./img/known/Taylor Swift.jpg')\n",
    "steve_face_encoding = fr.face_encodings(image_of_steve)[0]\n",
    "\n",
    "image_of_elon = fr.load_image_file('./img/known/Katy Perry.jpg')\n",
    "elon_face_encoding = fr.face_encodings(image_of_elon)[0]\n",
    "\n",
    "#  Create arrays of encodings and names\n",
    "known_face_encodings = [\n",
    "  bill_face_encoding,\n",
    "  steve_face_encoding,\n",
    "  elon_face_encoding\n",
    "]\n",
    "\n",
    "known_face_names = [\n",
    "  \"Selena Gomez\",\n",
    "  \"Taylor Swift\",\n",
    "  \"Katy Perry\"\n",
    "]\n",
    "\n",
    "# Load test image to find faces in\n",
    "test_image = fr.load_image_file('./img/groups/selena-swift-katy.jpg')\n",
    "\n",
    "# Find faces in test image\n",
    "face_locations = fr.face_locations(test_image)\n",
    "face_encodings = fr.face_encodings(test_image, face_locations)\n",
    "\n",
    "# Convert to PIL format\n",
    "pil_image = Image.fromarray(test_image)\n",
    "\n",
    "# Create a ImageDraw instance\n",
    "draw = ImageDraw.Draw(pil_image)\n",
    "\n",
    "# Loop through faces in test image\n",
    "for(top, right, bottom, left), face_encoding in zip(face_locations, face_encodings):\n",
    "  matches = fr.compare_faces(known_face_encodings, face_encoding)\n",
    "\n",
    "  name = \"Unknown Person\"\n",
    "\n",
    "  # If match\n",
    "  if True in matches:\n",
    "    first_match_index = matches.index(True)\n",
    "    name = known_face_names[first_match_index]\n",
    "  \n",
    "  # Draw box\n",
    "  draw.rectangle(((left, top), (right, bottom)), outline=(255,255,0))\n",
    "\n",
    "  # Draw label\n",
    "  text_width, text_height = draw.textsize(name)\n",
    "  draw.rectangle(((left,bottom - text_height - 10), (right, bottom)), fill=(255,255,0), outline=(255,255,0))\n",
    "  draw.text((left + 6, bottom - text_height - 5), name, fill=(0,0,0))\n",
    "\n",
    "del draw\n",
    "\n",
    "# Display image\n",
    "pil_image.show()\n",
    "\n",
    "# Save image\n",
    "pil_image.save('identify.jpg')"
   ]
  },
  {
   "cell_type": "code",
   "execution_count": 16,
   "metadata": {},
   "outputs": [],
   "source": [
    "from PIL import Image\n",
    "import face_recognition as fr\n",
    "\n",
    "image = fr.load_image_file('./img/groups/team1.jpg')\n",
    "face_locations = fr.face_locations(image)\n",
    "\n",
    "for face_location in face_locations:\n",
    "    top, right, bottom, left = face_location\n",
    "\n",
    "    face_image = image[top:bottom, left:right]\n",
    "    pil_image = Image.fromarray(face_image)\n",
    "    # pil_image.show()\n",
    "    pil_image.save(f'{top}.jpg')\n"
   ]
  }
 ],
 "metadata": {
  "kernelspec": {
   "display_name": "Python 3",
   "language": "python",
   "name": "python3"
  },
  "language_info": {
   "codemirror_mode": {
    "name": "ipython",
    "version": 3
   },
   "file_extension": ".py",
   "mimetype": "text/x-python",
   "name": "python",
   "nbconvert_exporter": "python",
   "pygments_lexer": "ipython3",
   "version": "3.6.10"
  }
 },
 "nbformat": 4,
 "nbformat_minor": 4
}
